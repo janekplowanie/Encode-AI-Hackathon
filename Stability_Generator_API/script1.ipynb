{
 "cells": [
  {
   "cell_type": "code",
   "execution_count": 2,
   "id": "1edfa377",
   "metadata": {
    "ExecuteTime": {
     "end_time": "2024-03-09T13:10:14.295341Z",
     "start_time": "2024-03-09T13:10:14.230523Z"
    },
    "collapsed": false
   },
   "outputs": [],
   "source": [
    "import requests\n",
    "from PIL import Image\n",
    "import base64\n",
    "import requests\n",
    "import os"
   ]
  },
  {
   "cell_type": "code",
   "execution_count": 3,
   "id": "887ec5d5",
   "metadata": {},
   "outputs": [],
   "source": [
    "def generate_image_from_text(api_key, text_prompts, output_directory, book_name):\n",
    "    import requests\n",
    "    import os\n",
    "    import base64\n",
    "    import time\n",
    "    \n",
    "    url = \"https://api.stability.ai/v1/generation/stable-diffusion-xl-1024-v1-0/text-to-image\"\n",
    "\n",
    "    body = {\n",
    "        \"steps\": 40,\n",
    "        \"width\": 1024,\n",
    "        \"height\": 1024,\n",
    "        \"seed\": 0,\n",
    "        \"cfg_scale\": 5,\n",
    "        \"samples\": 1,\n",
    "#         \"style_preset\": \"cinematic\",\n",
    "#         \"style_preset\": \"3d-model\",\n",
    "        \"text_prompts\": text_prompts,\n",
    "    }\n",
    "\n",
    "    headers = {\n",
    "        \"Accept\": \"application/json\",\n",
    "        \"Content-Type\": \"application/json\",\n",
    "        \"Authorization\": f\"Bearer {api_key}\",\n",
    "    }\n",
    "\n",
    "    response = requests.post(url, headers=headers, json=body)\n",
    "\n",
    "    if response.status_code != 200:\n",
    "        raise Exception(\"Non-200 response: \" + str(response.text))\n",
    "\n",
    "    data = response.json()\n",
    "\n",
    "    # Ensure the output directory exists\n",
    "    os.makedirs(output_directory, exist_ok=True)\n",
    "    \n",
    "    image_path=''\n",
    "    for i, image in enumerate(data[\"artifacts\"]):\n",
    "        image_path = os.path.join(output_directory, f'{book_name}_{image[\"seed\"]}.png')\n",
    "        with open(image_path, \"wb\") as f:\n",
    "            f.write(base64.b64decode(image[\"base64\"]))\n",
    "    return image_path"
   ]
  },
  {
   "cell_type": "code",
   "execution_count": 4,
   "id": "54dd75d9",
   "metadata": {},
   "outputs": [],
   "source": [
    "def resize_image(input_path, width = 768 , height = 768):\n",
    "    from PIL import Image\n",
    "    # Load the image\n",
    "    img = Image.open(input_path)\n",
    "\n",
    "    # Resize the image\n",
    "    img_resized = img.resize((width, height))\n",
    "\n",
    "    # Save the resized image\n",
    "    img_resized.save(input_path)\n"
   ]
  },
  {
   "cell_type": "code",
   "execution_count": 5,
   "id": "e97db433",
   "metadata": {},
   "outputs": [],
   "source": [
    "def get_generation_id(api_key, image_path, cfg_scale, motion_bucket_id):\n",
    "    import requests\n",
    "\n",
    "    url = \"https://api.stability.ai/v2alpha/generation/image-to-video\"\n",
    "\n",
    "    headers = {\"authorization\": f\"Bearer {api_key}\"}\n",
    "\n",
    "    files = {\"image\": open(image_path, \"rb\")}\n",
    "\n",
    "    data = {\n",
    "        \"seed\": 0,\n",
    "        \"cfg_scale\": cfg_scale,\n",
    "        \"motion_bucket_id\": motion_bucket_id\n",
    "    }\n",
    "\n",
    "    response = requests.post(url, headers=headers, files=files, data=data)\n",
    "\n",
    "    if response.status_code == 200:\n",
    "        generation_id = response.json().get('id')\n",
    "        print(\"Generation ID:\", generation_id)\n",
    "        return generation_id\n",
    "    else:\n",
    "        print(f\"Error: {response.status_code} - {response.text}\")\n",
    "        return None"
   ]
  },
  {
   "cell_type": "code",
   "execution_count": 6,
   "id": "300476cb",
   "metadata": {},
   "outputs": [],
   "source": [
    "def download_generated_video(api_key, generation_id, output_path):\n",
    "\n",
    "    import requests\n",
    "    from time import sleep\n",
    "    url = f\"https://api.stability.ai/v2alpha/generation/image-to-video/result/{generation_id}\"\n",
    "\n",
    "    headers = {\n",
    "        'Accept': \"video/*\",  # Use 'application/json' to receive base64 encoded JSON\n",
    "        'authorization': f\"Bearer {api_key}\"\n",
    "    }\n",
    "\n",
    "    response = requests.get(url, headers=headers)\n",
    "    print(\"Response status:\", response.status_code)\n",
    "    while response.status_code !=200:\n",
    "        if response.status_code == 202:\n",
    "            print(\"Generation in-progress, try again in 5 seconds...\")\n",
    "            sleep(5)\n",
    "            response = requests.get(url, headers=headers)\n",
    "    \n",
    "    print(\"Generation complete!\")\n",
    "    \n",
    "    with open(output_path, 'wb') as file:\n",
    "        file.write(response.content)"
   ]
  },
  {
   "cell_type": "code",
   "execution_count": 7,
   "id": "26590b0a",
   "metadata": {},
   "outputs": [],
   "source": [
    "def generate_and_download_video(api_key, text_prompts, book_name, cfg_scale = 1.8, motion_bucket_id = 127):\n",
    "    \"\"\"\n",
    "    Generate image and animate it via Stability AI API. \n",
    "    Creates folder \"book_name\" with \"book_name/Images\" and \"book_name/Videos\".\n",
    "    Stores created images and animation to corresponding folders.\n",
    "    \n",
    "    api_key : Stability AI API key\n",
    "    \n",
    "    text_prompts : Text to generate image from (e.g text_prompts = [\n",
    "            {\"text\": \"Harry Potter shooting a gun\", \n",
    "                     \"weight\": 1},\n",
    "            {\"text\": \"blurry, bad\", \"weight\": -1},]\n",
    "            )\n",
    "    \n",
    "    book_name : book name (e.g. book_name = \"Harry\")\n",
    "    \n",
    "    cfg_scale [1, 10]: How strongly the video sticks to the original image. \n",
    "    Use lower values to allow the model more freedom to make changes and higher values to correct motion distortions.\n",
    "    \n",
    "    motion_bucket_id [1, 255] : Lower values generally result in less motion in the output video,\n",
    "while higher values generally result in more motion. \n",
    "    \"\"\"\n",
    "\n",
    "    import os\n",
    "    \n",
    "    output_path_images = f\"{book_name}/Images/\"\n",
    "    os.makedirs(output_path_images, exist_ok=True)\n",
    "    \n",
    "    image_path = generate_image_from_text(api_key, text_prompts, output_path_images, book_name)\n",
    "    resize_image(image_path)\n",
    "    image_name = os.path.basename(image_path)\n",
    "    \n",
    "    \n",
    "    os.makedirs(f'{book_name}/Videos', exist_ok=True)\n",
    "    \n",
    "    out_path_videos=f'{book_name}/Videos/{os.path.basename(image_path)[:-4]}.mp4'    \n",
    "    generation_id = get_generation_id(api_key, image_path, cfg_scale, motion_bucket_id )\n",
    "\n",
    "    if generation_id:\n",
    "        download_generated_video(api_key, generation_id, out_path_videos)\n",
    "    return out_path_videos"
   ]
  },
  {
   "cell_type": "markdown",
   "id": "5d89fadf",
   "metadata": {},
   "source": [
    "# Example"
   ]
  },
  {
   "cell_type": "code",
   "execution_count": 8,
   "id": "5f28d600",
   "metadata": {},
   "outputs": [],
   "source": [
    "api_key='sk-sCTLqlnzDxEQJrHmtT3GTNncfLYX5n9njuL04oWKbav0PUqR'"
   ]
  },
  {
   "cell_type": "code",
   "execution_count": 9,
   "id": "01f3f8ac",
   "metadata": {},
   "outputs": [],
   "source": [
    "text_animal_farm='The animals successfully overthrow Mr. Jones and take control of the farm. They celebrate their newfound freedom by destroying all reminders of the humans\\' mistreatment and renaming the farm Animal Farm.'\n",
    "text_prompts = [\n",
    "    {\"text\": text_animal_farm, \"weight\": 1},\n",
    "    {\"text\": \"blurry, bad\", \"weight\": -1}]\n",
    "book_name = \"AnimalFarm\""
   ]
  },
  {
   "cell_type": "markdown",
   "id": "667b4d4d",
   "metadata": {},
   "source": [
    "text_prompts = [\n",
    "    {\"text\" : \"Harry Potter shooting a gun\"}\n",
    "]\n",
    "book_name = \"HarryGun\""
   ]
  },
  {
   "cell_type": "code",
   "execution_count": 10,
   "id": "f3c0d7f9",
   "metadata": {
    "ExecuteTime": {
     "end_time": "2024-03-09T13:36:26.360764Z",
     "start_time": "2024-03-09T13:36:20.234532Z"
    },
    "scrolled": true
   },
   "outputs": [
    {
     "name": "stdout",
     "output_type": "stream",
     "text": [
      "Generation ID: 9b6bf0c7bf0d78bd0d53f66bbb331fcae18fe3f12bb7ddc25e5e26d60a2d672c\n",
      "Response status: 202\n",
      "Generation in-progress, try again in 5 seconds...\n",
      "Generation in-progress, try again in 5 seconds...\n",
      "Generation in-progress, try again in 5 seconds...\n",
      "Generation in-progress, try again in 5 seconds...\n",
      "Generation in-progress, try again in 5 seconds...\n",
      "Generation in-progress, try again in 5 seconds...\n",
      "Generation in-progress, try again in 5 seconds...\n",
      "Generation in-progress, try again in 5 seconds...\n",
      "Generation in-progress, try again in 5 seconds...\n",
      "Generation in-progress, try again in 5 seconds...\n",
      "Generation in-progress, try again in 5 seconds...\n",
      "Generation complete!\n"
     ]
    },
    {
     "data": {
      "text/plain": [
       "'AnimalFarm/Videos/AnimalFarm_2082773447.mp4'"
      ]
     },
     "execution_count": 10,
     "metadata": {},
     "output_type": "execute_result"
    }
   ],
   "source": [
    "generate_and_download_video(api_key, text_prompts, book_name , cfg_scale=5, motion_bucket_id=200)"
   ]
  },
  {
   "cell_type": "code",
   "execution_count": null,
   "id": "e72ae478",
   "metadata": {},
   "outputs": [],
   "source": []
  }
 ],
 "metadata": {
  "kernelspec": {
   "display_name": "Python 3",
   "language": "python",
   "name": "python3"
  },
  "language_info": {
   "codemirror_mode": {
    "name": "ipython",
    "version": 3
   },
   "file_extension": ".py",
   "mimetype": "text/x-python",
   "name": "python",
   "nbconvert_exporter": "python",
   "pygments_lexer": "ipython3",
   "version": "3.9.12"
  }
 },
 "nbformat": 4,
 "nbformat_minor": 5
}
