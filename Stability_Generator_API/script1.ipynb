{
 "cells": [
  {
   "cell_type": "code",
   "execution_count": 28,
   "id": "1edfa377",
   "metadata": {
    "collapsed": false,
    "ExecuteTime": {
     "end_time": "2024-03-09T13:10:14.295341Z",
     "start_time": "2024-03-09T13:10:14.230523Z"
    }
   },
   "outputs": [],
   "source": [
    "import requests\n",
    "from PIL import Image\n",
    "import base64\n",
    "import requests\n",
    "import os"
   ]
  },
  {
   "cell_type": "code",
   "execution_count": 29,
   "id": "887ec5d5",
   "metadata": {},
   "outputs": [],
   "source": [
    "def generate_image_from_text(api_key, text_prompts, output_directory, book_name):\n",
    "    import requests\n",
    "    import os\n",
    "    import base64\n",
    "    import time\n",
    "    \n",
    "    url = \"https://api.stability.ai/v1/generation/stable-diffusion-xl-1024-v1-0/text-to-image\"\n",
    "\n",
    "    body = {\n",
    "        \"steps\": 40,\n",
    "        \"width\": 1024,\n",
    "        \"height\": 1024,\n",
    "        \"seed\": 0,\n",
    "        \"cfg_scale\": 5,\n",
    "        \"samples\": 1,\n",
    "#         \"style_preset\": \"cinematic\",\n",
    "#         \"style_preset\": \"3d-model\",\n",
    "        \"text_prompts\": text_prompts,\n",
    "    }\n",
    "\n",
    "    headers = {\n",
    "        \"Accept\": \"application/json\",\n",
    "        \"Content-Type\": \"application/json\",\n",
    "        \"Authorization\": f\"Bearer {api_key}\",\n",
    "    }\n",
    "\n",
    "    response = requests.post(url, headers=headers, json=body)\n",
    "\n",
    "    if response.status_code != 200:\n",
    "        raise Exception(\"Non-200 response: \" + str(response.text))\n",
    "\n",
    "    data = response.json()\n",
    "\n",
    "    # Ensure the output directory exists\n",
    "    os.makedirs(output_directory, exist_ok=True)\n",
    "    \n",
    "    image_path=''\n",
    "    for i, image in enumerate(data[\"artifacts\"]):\n",
    "        image_path = os.path.join(output_directory, f'{book_name}_{image[\"seed\"]}.png')\n",
    "        with open(image_path, \"wb\") as f:\n",
    "            f.write(base64.b64decode(image[\"base64\"]))\n",
    "    return image_path"
   ]
  },
  {
   "cell_type": "code",
   "execution_count": 30,
   "id": "54dd75d9",
   "metadata": {},
   "outputs": [],
   "source": [
    "def resize_image(input_path, width = 768 , height = 768):\n",
    "    from PIL import Image\n",
    "    # Load the image\n",
    "    img = Image.open(input_path)\n",
    "\n",
    "    # Resize the image\n",
    "    img_resized = img.resize((width, height))\n",
    "\n",
    "    # Save the resized image\n",
    "    img_resized.save(input_path)\n"
   ]
  },
  {
   "cell_type": "code",
   "execution_count": 31,
   "id": "e97db433",
   "metadata": {},
   "outputs": [],
   "source": [
    "def get_generation_id(api_key, image_path, cfg_scale, motion_bucket_id):\n",
    "    import requests\n",
    "\n",
    "    url = \"https://api.stability.ai/v2alpha/generation/image-to-video\"\n",
    "\n",
    "    headers = {\"authorization\": f\"Bearer {api_key}\"}\n",
    "\n",
    "    files = {\"image\": open(image_path, \"rb\")}\n",
    "\n",
    "    data = {\n",
    "        \"seed\": 0,\n",
    "        \"cfg_scale\": cfg_scale,\n",
    "        \"motion_bucket_id\": motion_bucket_id\n",
    "    }\n",
    "\n",
    "    response = requests.post(url, headers=headers, files=files, data=data)\n",
    "\n",
    "    if response.status_code == 200:\n",
    "        generation_id = response.json().get('id')\n",
    "        print(\"Generation ID:\", generation_id)\n",
    "        return generation_id\n",
    "    else:\n",
    "        print(f\"Error: {response.status_code} - {response.text}\")\n",
    "        return None"
   ]
  },
  {
   "cell_type": "code",
   "execution_count": 32,
   "id": "300476cb",
   "metadata": {},
   "outputs": [],
   "source": [
    "def download_generated_video(api_key, generation_id, output_path):\n",
    "\n",
    "    import requests\n",
    "    from time import sleep\n",
    "    url = f\"https://api.stability.ai/v2alpha/generation/image-to-video/result/{generation_id}\"\n",
    "\n",
    "    headers = {\n",
    "        'Accept': \"video/*\",  # Use 'application/json' to receive base64 encoded JSON\n",
    "        'authorization': f\"Bearer {api_key}\"\n",
    "    }\n",
    "\n",
    "    response = requests.get(url, headers=headers)\n",
    "    print(\"Response status:\", response.status_code)\n",
    "    while response.status_code !=200:\n",
    "        if response.status_code == 202:\n",
    "            print(\"Generation in-progress, try again in 5 seconds...\")\n",
    "            sleep(5)\n",
    "            response = requests.get(url, headers=headers)\n",
    "    \n",
    "    print(\"Generation complete!\")\n",
    "    \n",
    "    with open(output_path, 'wb') as file:\n",
    "        file.write(response.content)"
   ]
  },
  {
   "cell_type": "code",
   "execution_count": 33,
   "id": "26590b0a",
   "metadata": {},
   "outputs": [],
   "source": [
    "def generate_and_download_video(api_key, text_prompts, book_name, cfg_scale = 1.8, motion_bucket_id = 127):\n",
    "    \"\"\"\n",
    "    Generate image and animate it via Stability AI API. \n",
    "    Creates folder \"book_name\" with \"book_name/Images\" and \"book_name/Videos\".\n",
    "    Stores created images and animation to corresponding folders.\n",
    "    \n",
    "    api_key : Stability AI API key\n",
    "    \n",
    "    text_prompts : Text to generate image from (e.g text_prompts = [\n",
    "            {\"text\": \"Harry Potter shooting a gun\", \n",
    "                     \"weight\": 1},\n",
    "            {\"text\": \"blurry, bad\", \"weight\": -1},]\n",
    "            )\n",
    "    \n",
    "    book_name : book name (e.g. book_name = \"Harry\")\n",
    "    \n",
    "    cfg_scale [1, 10]: How strongly the video sticks to the original image. \n",
    "    Use lower values to allow the model more freedom to make changes and higher values to correct motion distortions.\n",
    "    \n",
    "    motion_bucket_id [1, 255] : Lower values generally result in less motion in the output video,\n",
    "while higher values generally result in more motion. \n",
    "    \"\"\"\n",
    "\n",
    "    import os\n",
    "    \n",
    "    output_path_images = f\"{book_name}/Images/\"\n",
    "    os.makedirs(output_path_images, exist_ok=True)\n",
    "    \n",
    "    image_path = generate_image_from_text(api_key, text_prompts, output_path_images, book_name)\n",
    "    resize_image(image_path)\n",
    "    image_name = os.path.basename(image_path)\n",
    "    \n",
    "    \n",
    "    os.makedirs(f'{book_name}/Videos', exist_ok=True)\n",
    "    \n",
    "    out_path_videos=f'{book_name}/Videos/{os.path.basename(image_path)[:-4]}.mp4'    \n",
    "    generation_id = get_generation_id(api_key, image_path, cfg_scale, motion_bucket_id )\n",
    "\n",
    "    if generation_id:\n",
    "        download_generated_video(api_key, generation_id, out_path_videos)\n",
    "    return out_path_videos"
   ]
  },
  {
   "cell_type": "markdown",
<<<<<<< Updated upstream
   "source": [
    "## Image generation"
   ],
   "metadata": {
    "collapsed": false
   },
   "id": "5233619eb9a35811"
  },
  {
   "cell_type": "code",
   "outputs": [],
   "source": [
    "# Load environment variables from .env file\n",
    "load_dotenv()\n",
    "api_key = os.getenv(\"API_KEY\")"
   ],
   "metadata": {
    "collapsed": false,
    "ExecuteTime": {
     "end_time": "2024-03-09T13:10:18.364281Z",
     "start_time": "2024-03-09T13:10:18.360576Z"
    }
   },
   "id": "31d922f8a04b57df",
   "execution_count": 2
  },
  {
   "cell_type": "code",
=======
   "id": "5d89fadf",
   "metadata": {},
   "source": [
    "# Example"
   ]
  },
  {
   "cell_type": "code",
   "execution_count": 34,
   "id": "5f28d600",
   "metadata": {},
   "outputs": [],
   "source": [
    "api_key='sk-sCTLqlnzDxEQJrHmtT3GTNncfLYX5n9njuL04oWKbav0PUqR'"
   ]
  },
  {
   "cell_type": "code",
   "execution_count": 37,
   "id": "01f3f8ac",
   "metadata": {},
>>>>>>> Stashed changes
   "outputs": [],
   "source": [
    "text_animal_farm='The animals successfully overthrow Mr. Jones and take control of the farm. They celebrate their newfound freedom by destroying all reminders of the humans\\' mistreatment and renaming the farm Animal Farm.'\n",
    "text_prompts = [\n",
<<<<<<< Updated upstream
    "    {\"text\": \"Ten years have passed. Harry, now almost eleven, has been living in a small cupboard under the stairs. Harry has been abused by the Mr. and Mrs. Dursley, as well as their only son, Dudley. Dudley is spoiled and whiny. Today is Dudley’s birthday, and he complains about getting only 37 presents this year. Harry is very self-conscience, and the only thing he likes about his appearance is a lightning shaped scar on his forehead. He is told he got that in a car crash when his parents died.\", \"weight\": 1},\n",
    "    {\"text\": \"blurry, bad\", \"weight\": -1},]\n",
    "output_directory = \"Images/\"\n",
    "book_name = \"Harry\""
   ],
   "metadata": {
    "collapsed": false,
    "ExecuteTime": {
     "end_time": "2024-03-09T13:10:21.989187Z",
     "start_time": "2024-03-09T13:10:21.986804Z"
    }
   },
   "id": "3ef87a5c98dd41c4",
   "execution_count": 3
  },
  {
   "cell_type": "code",
   "outputs": [],
   "source": [
    "generate_image_from_text(api_key, text_prompts, output_directory, book_name)"
   ],
   "metadata": {
    "collapsed": false,
    "ExecuteTime": {
     "end_time": "2024-03-09T13:10:34.640799Z",
     "start_time": "2024-03-09T13:10:26.332085Z"
    }
   },
   "id": "33925e91884071dd",
   "execution_count": 4
  },
  {
   "cell_type": "code",
   "outputs": [],
   "source": [
    "resize_image(\"Images/Harry_2831275650.png\")"
   ],
   "metadata": {
    "collapsed": false,
    "ExecuteTime": {
     "end_time": "2024-03-09T13:11:28.336824Z",
     "start_time": "2024-03-09T13:11:27.740769Z"
    }
   },
   "id": "787ee89d0fa147b4",
   "execution_count": 5
  },
  {
   "cell_type": "code",
=======
    "    {\"text\": text_animal_farm, \"weight\": 1},\n",
    "    {\"text\": \"blurry, bad\", \"weight\": -1}]\n",
    "book_name = \"AnimalFarm\""
   ]
  },
  {
   "cell_type": "markdown",
   "id": "667b4d4d",
   "metadata": {},
   "source": [
    "text_prompts = [\n",
    "    {\"text\" : \"Harry Potter shooting a gun\"}\n",
    "]\n",
    "book_name = \"HarryGun\""
   ]
  },
  {
   "cell_type": "code",
   "execution_count": 38,
   "id": "f3c0d7f9",
   "metadata": {
    "ExecuteTime": {
     "end_time": "2024-03-09T13:36:26.360764Z",
     "start_time": "2024-03-09T13:36:20.234532Z"
    },
    "scrolled": true
   },
>>>>>>> Stashed changes
   "outputs": [
    {
     "name": "stdout",
     "output_type": "stream",
     "text": [
<<<<<<< Updated upstream
      "Generation ID: adf3fc95fe8d84638afc5b4b6fea88a8fe7799f7bc171c7d20b8c8566be1d787\n",
      "Generation in-progress, try again in 10 seconds.\n"
=======
      "Generation ID: c244e7b17cd22a45b2a7614776d14d31977e73998b964de182c8ec272676fad9\n",
      "Response status: 202\n",
      "Generation in-progress, try again in 5 seconds...\n",
      "Generation in-progress, try again in 5 seconds...\n",
      "Generation in-progress, try again in 5 seconds...\n",
      "Generation in-progress, try again in 5 seconds...\n",
      "Generation in-progress, try again in 5 seconds...\n",
      "Generation in-progress, try again in 5 seconds...\n",
      "Generation in-progress, try again in 5 seconds...\n",
      "Generation in-progress, try again in 5 seconds...\n",
      "Generation in-progress, try again in 5 seconds...\n",
      "Generation in-progress, try again in 5 seconds...\n",
      "Generation in-progress, try again in 5 seconds...\n",
      "Generation complete!\n"
>>>>>>> Stashed changes
     ]
    },
    {
     "data": {
      "text/plain": [
       "'AnimalFarm/Videos/AnimalFarm_3406174496.mp4'"
      ]
     },
     "execution_count": 38,
     "metadata": {},
     "output_type": "execute_result"
    }
   ],
   "source": [
<<<<<<< Updated upstream
    "generate_and_download_video(api_key, \"Images/Harry_2831275650.png\")"
   ],
   "metadata": {
    "collapsed": false,
    "ExecuteTime": {
     "end_time": "2024-03-09T13:36:26.360764Z",
     "start_time": "2024-03-09T13:36:20.234532Z"
    }
   },
   "id": "5eb2aa8b0548d1f0",
   "execution_count": 10
  },
  {
   "cell_type": "markdown",
   "source": [
    "++++++++++++++++++++++++++++++"
   ],
   "metadata": {
    "collapsed": false
   },
   "id": "bb9f9847b0fce36e"
  },
  {
   "cell_type": "code",
   "outputs": [
    {
     "name": "stdout",
     "output_type": "stream",
     "text": [
      "Generation ID: 2d4f64548a3c4d9fe05138d9569acda11ed04b0d6b07588af74f6c7dff3a51f6\n"
     ]
    }
   ],
   "source": [
    "api_key = \"sk-bkuIqt0pQzG17G7H3q8phhkvYLBkUK3S7z4vqMfLtCdEjkDJ\"\n",
    "response = requests.post(\n",
    "    f\"https://api.stability.ai/v2alpha/generation/image-to-video\",\n",
    "    headers={\"authorization\": f\"Bearer {api_key} \"},\n",
    "    files={\"image\": open(\"./animal_farm.jpeg\", \"rb\")},\n",
    "    data={\n",
    "        \"seed\": 0,\n",
    "        \"cfg_scale\": 1.8,\n",
    "        \"motion_bucket_id\": 127\n",
    "    },\n",
    ")\n",
    "\n",
    "generation_id = response.json().get('id')\n",
    "print(\"Generation ID:\", response.json().get('id'))"
   ],
   "metadata": {
    "collapsed": true,
    "ExecuteTime": {
     "end_time": "2024-03-08T19:09:56.597826Z",
     "start_time": "2024-03-08T19:09:51.852565Z"
    }
   },
   "id": "initial_id",
   "execution_count": 10
  },
  {
   "cell_type": "code",
   "outputs": [
    {
     "name": "stdout",
     "output_type": "stream",
     "text": [
      "Generation complete!\n"
     ]
    }
   ],
   "source": [
    "response = requests.request(\n",
    "    \"GET\",\n",
    "    f\"https://api.stability.ai/v2alpha/generation/image-to-video/result/{generation_id}\",\n",
    "    headers={\n",
    "        'Accept': \"video/*\",  # Use 'application/json' to receive base64 encoded JSON\n",
    "        'authorization': f\"Bearer {api_key}\"\n",
    "    },\n",
    ")\n",
    "\n",
    "if response.status_code == 202:\n",
    "    print(\"Generation in-progress, try again in 10 seconds.\")\n",
    "elif response.status_code == 200:\n",
    "    print(\"Generation complete!\")\n",
    "    with open(\"video.mp4\", 'wb') as file:\n",
    "        file.write(response.content)\n",
    "else:\n",
    "    raise Exception(str(response.json()))"
   ],
   "metadata": {
    "collapsed": false,
    "ExecuteTime": {
     "end_time": "2024-03-08T19:11:08.338684Z",
     "start_time": "2024-03-08T19:11:04.907763Z"
    }
   },
   "id": "2836842feea3891a",
   "execution_count": 13
  },
  {
   "cell_type": "code",
   "outputs": [],
   "source": [
    "def generate_video(api_key, image_path):\n",
    "    response = requests.post(\n",
    "        f\"https://api.stability.ai/v2alpha/generation/image-to-video\",\n",
    "        headers={\"authorization\": f\"Bearer {api_key} \"},\n",
    "        files={\"image\": open(\"./animal_farm.jpeg\", \"rb\")},\n",
    "        data={\n",
    "            \"seed\": 0,\n",
    "            \"cfg_scale\": 1.8,\n",
    "            \"motion_bucket_id\": 127\n",
    "        },\n",
    "    )\n",
    "    \n",
    "generation_id = response.json().get('id')\n",
    "print(\"Generation ID:\", response.json().get('id'))"
   ],
   "metadata": {
    "collapsed": false
   },
   "id": "845e440adad2ac17"
  },
  {
   "cell_type": "markdown",
   "source": [
    "Combined function"
   ],
   "metadata": {
    "collapsed": false
   },
   "id": "cf52e50bcb9690ef"
=======
    "generate_and_download_video(api_key, text_prompts, book_name , cfg_scale=5, motion_bucket_id=200)"
   ]
  },
  {
   "cell_type": "code",
   "execution_count": null,
   "id": "e72ae478",
   "metadata": {},
   "outputs": [],
   "source": []
>>>>>>> Stashed changes
  }
 ],
 "metadata": {
  "kernelspec": {
   "display_name": "Python 3",
   "language": "python",
   "name": "python3"
  },
  "language_info": {
   "codemirror_mode": {
    "name": "ipython",
    "version": 2
   },
   "file_extension": ".py",
   "mimetype": "text/x-python",
   "name": "python",
   "nbconvert_exporter": "python",
   "pygments_lexer": "ipython2",
   "version": "2.7.6"
  }
 },
 "nbformat": 4,
 "nbformat_minor": 5
}
