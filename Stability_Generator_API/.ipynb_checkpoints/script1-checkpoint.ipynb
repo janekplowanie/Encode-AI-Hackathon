{
 "cells": [
  {
   "cell_type": "code",
   "execution_count": 1,
   "id": "33746ceaabd44992",
   "metadata": {
    "collapsed": false,
    "ExecuteTime": {
     "end_time": "2024-03-09T13:10:14.295341Z",
     "start_time": "2024-03-09T13:10:14.230523Z"
    }
   },
   "outputs": [],
   "source": [
    "import requests\n",
    "from PIL import Image\n",
    "import base64\n",
    "import requests\n",
    "import os\n",
    "from dotenv import load_dotenv\n",
    "from main_function import generate_image_from_text, resize_image, generate_and_download_video"
   ]
  },
  {
   "cell_type": "markdown",
   "source": [
    "## Image generation"
   ],
   "metadata": {
    "collapsed": false
   },
   "id": "5233619eb9a35811"
  },
  {
   "cell_type": "code",
   "outputs": [],
   "source": [
    "# Load environment variables from .env file\n",
    "load_dotenv()\n",
    "api_key = os.getenv(\"API_KEY\")"
   ],
   "metadata": {
    "collapsed": false,
    "ExecuteTime": {
     "end_time": "2024-03-09T13:10:18.364281Z",
     "start_time": "2024-03-09T13:10:18.360576Z"
    }
   },
   "id": "31d922f8a04b57df",
   "execution_count": 2
  },
  {
   "cell_type": "code",
   "outputs": [],
   "source": [
    "# Combined usage:\n",
    "text_prompts = [\n",
    "    {\"text\": \"Ten years have passed. Harry, now almost eleven, has been living in a small cupboard under the stairs. Harry has been abused by the Mr. and Mrs. Dursley, as well as their only son, Dudley. Dudley is spoiled and whiny. Today is Dudley’s birthday, and he complains about getting only 37 presents this year. Harry is very self-conscience, and the only thing he likes about his appearance is a lightning shaped scar on his forehead. He is told he got that in a car crash when his parents died.\", \"weight\": 1},\n",
    "    {\"text\": \"blurry, bad\", \"weight\": -1},]\n",
    "output_directory = \"Images/\"\n",
    "book_name = \"Harry\""
   ],
   "metadata": {
    "collapsed": false,
    "ExecuteTime": {
     "end_time": "2024-03-09T13:10:21.989187Z",
     "start_time": "2024-03-09T13:10:21.986804Z"
    }
   },
   "id": "3ef87a5c98dd41c4",
   "execution_count": 3
  },
  {
   "cell_type": "code",
   "outputs": [],
   "source": [
    "generate_image_from_text(api_key, text_prompts, output_directory, book_name)"
   ],
   "metadata": {
    "collapsed": false,
    "ExecuteTime": {
     "end_time": "2024-03-09T13:10:34.640799Z",
     "start_time": "2024-03-09T13:10:26.332085Z"
    }
   },
   "id": "33925e91884071dd",
   "execution_count": 4
  },
  {
   "cell_type": "code",
   "outputs": [],
   "source": [
    "resize_image(\"Images/Harry_2831275650.png\")"
   ],
   "metadata": {
    "collapsed": false,
    "ExecuteTime": {
     "end_time": "2024-03-09T13:11:28.336824Z",
     "start_time": "2024-03-09T13:11:27.740769Z"
    }
   },
   "id": "787ee89d0fa147b4",
   "execution_count": 5
  },
  {
   "cell_type": "code",
   "outputs": [
    {
     "name": "stdout",
     "output_type": "stream",
     "text": [
      "Generation ID: adf3fc95fe8d84638afc5b4b6fea88a8fe7799f7bc171c7d20b8c8566be1d787\n",
      "Generation in-progress, try again in 10 seconds.\n"
     ]
    }
   ],
   "source": [
    "generate_and_download_video(api_key, \"Images/Harry_2831275650.png\")"
   ],
   "metadata": {
    "collapsed": false,
    "ExecuteTime": {
     "end_time": "2024-03-09T13:36:26.360764Z",
     "start_time": "2024-03-09T13:36:20.234532Z"
    }
   },
   "id": "5eb2aa8b0548d1f0",
   "execution_count": 10
  },
  {
   "cell_type": "markdown",
   "source": [
    "++++++++++++++++++++++++++++++"
   ],
   "metadata": {
    "collapsed": false
   },
   "id": "bb9f9847b0fce36e"
  },
  {
   "cell_type": "code",
   "outputs": [
    {
     "name": "stdout",
     "output_type": "stream",
     "text": [
      "Generation ID: 2d4f64548a3c4d9fe05138d9569acda11ed04b0d6b07588af74f6c7dff3a51f6\n"
     ]
    }
   ],
   "source": [
    "api_key = \"sk-bkuIqt0pQzG17G7H3q8phhkvYLBkUK3S7z4vqMfLtCdEjkDJ\"\n",
    "response = requests.post(\n",
    "    f\"https://api.stability.ai/v2alpha/generation/image-to-video\",\n",
    "    headers={\"authorization\": f\"Bearer {api_key} \"},\n",
    "    files={\"image\": open(\"./animal_farm.jpeg\", \"rb\")},\n",
    "    data={\n",
    "        \"seed\": 0,\n",
    "        \"cfg_scale\": 1.8,\n",
    "        \"motion_bucket_id\": 127\n",
    "    },\n",
    ")\n",
    "\n",
    "generation_id = response.json().get('id')\n",
    "print(\"Generation ID:\", response.json().get('id'))"
   ],
   "metadata": {
    "collapsed": true,
    "ExecuteTime": {
     "end_time": "2024-03-08T19:09:56.597826Z",
     "start_time": "2024-03-08T19:09:51.852565Z"
    }
   },
   "id": "initial_id",
   "execution_count": 10
  },
  {
   "cell_type": "code",
   "outputs": [
    {
     "name": "stdout",
     "output_type": "stream",
     "text": [
      "Generation complete!\n"
     ]
    }
   ],
   "source": [
    "response = requests.request(\n",
    "    \"GET\",\n",
    "    f\"https://api.stability.ai/v2alpha/generation/image-to-video/result/{generation_id}\",\n",
    "    headers={\n",
    "        'Accept': \"video/*\",  # Use 'application/json' to receive base64 encoded JSON\n",
    "        'authorization': f\"Bearer {api_key}\"\n",
    "    },\n",
    ")\n",
    "\n",
    "if response.status_code == 202:\n",
    "    print(\"Generation in-progress, try again in 10 seconds.\")\n",
    "elif response.status_code == 200:\n",
    "    print(\"Generation complete!\")\n",
    "    with open(\"video.mp4\", 'wb') as file:\n",
    "        file.write(response.content)\n",
    "else:\n",
    "    raise Exception(str(response.json()))"
   ],
   "metadata": {
    "collapsed": false,
    "ExecuteTime": {
     "end_time": "2024-03-08T19:11:08.338684Z",
     "start_time": "2024-03-08T19:11:04.907763Z"
    }
   },
   "id": "2836842feea3891a",
   "execution_count": 13
  },
  {
   "cell_type": "code",
   "outputs": [],
   "source": [
    "def generate_video(api_key, image_path):\n",
    "    response = requests.post(\n",
    "        f\"https://api.stability.ai/v2alpha/generation/image-to-video\",\n",
    "        headers={\"authorization\": f\"Bearer {api_key} \"},\n",
    "        files={\"image\": open(\"./animal_farm.jpeg\", \"rb\")},\n",
    "        data={\n",
    "            \"seed\": 0,\n",
    "            \"cfg_scale\": 1.8,\n",
    "            \"motion_bucket_id\": 127\n",
    "        },\n",
    "    )\n",
    "    \n",
    "generation_id = response.json().get('id')\n",
    "print(\"Generation ID:\", response.json().get('id'))"
   ],
   "metadata": {
    "collapsed": false
   },
   "id": "845e440adad2ac17"
  },
  {
   "cell_type": "markdown",
   "source": [
    "Combined function"
   ],
   "metadata": {
    "collapsed": false
   },
   "id": "cf52e50bcb9690ef"
  }
 ],
 "metadata": {
  "kernelspec": {
   "display_name": "Python 3",
   "language": "python",
   "name": "python3"
  },
  "language_info": {
   "codemirror_mode": {
    "name": "ipython",
    "version": 2
   },
   "file_extension": ".py",
   "mimetype": "text/x-python",
   "name": "python",
   "nbconvert_exporter": "python",
   "pygments_lexer": "ipython2",
   "version": "2.7.6"
  }
 },
 "nbformat": 4,
 "nbformat_minor": 5
}
