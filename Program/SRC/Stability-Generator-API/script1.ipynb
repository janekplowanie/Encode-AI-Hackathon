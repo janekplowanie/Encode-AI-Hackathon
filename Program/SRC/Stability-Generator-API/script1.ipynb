{
 "cells": [
  {
   "cell_type": "code",
   "id": "1edfa377",
   "metadata": {
    "collapsed": false,
    "ExecuteTime": {
     "end_time": "2024-04-25T18:56:13.331867Z",
     "start_time": "2024-04-25T18:56:13.328032Z"
    }
   },
   "source": [
    "import base64\n",
    "import requests\n",
    "import os\n",
    "from PIL import Image\n",
    "from dotenv import load_dotenv\n",
    "import time"
   ],
   "outputs": [],
   "execution_count": 59
  },
  {
   "metadata": {
    "ExecuteTime": {
     "end_time": "2024-04-25T16:58:07.298733Z",
     "start_time": "2024-04-25T16:58:07.295263Z"
    }
   },
   "cell_type": "code",
   "source": [
    "load_dotenv()\n",
    "api_key = os.getenv(\"STABILITY_API_KEY\")\n",
    "new_api_key = os.getenv(\"ROMAN_STABILITY_KEY\")"
   ],
   "id": "f7425363a7a023a8",
   "outputs": [],
   "execution_count": 2
  },
  {
   "metadata": {
    "ExecuteTime": {
     "end_time": "2024-04-25T19:29:27.520953Z",
     "start_time": "2024-04-25T19:29:27.518526Z"
    }
   },
   "cell_type": "code",
   "source": [
    "text_prompts = [\"One crisp morning, as the mist clung to the treetops like a veil of enchantment, Leo set out on a new adventure. Armed with nothing but his curiosity and a sense of wonder, he ventured deeper into the woods than ever before. As he wandered, he stumbled upon a forgotten path, overgrown with ivy and tangled roots. Intrigued, Leo followed it, his heart pounding with excitement. The path led him deeper into the heart of the forest, where the trees seemed to whisper secrets to one another, and the air hummed with magic.\", \n",
    "\"Soon, Leo came upon a clearing bathed in golden light. At its center stood an ancient oak tree, its branches reaching towards the sky like outstretched arms. Beneath the tree, nestled among its roots, was a small wooden chest, weathered with age. With trembling hands, Leo opened the chest, his eyes widening in astonishment at what lay inside. It was a treasure unlike any he had ever seen—glittering jewels, ancient artifacts, and a map that seemed to beckon him on a grand adventure.\", \n",
    "\"Finally, after a long and perilous journey, Leo reached the end of the map. Before him stood a shimmering lake, its waters sparkling like liquid silver in the sunlight. And there, on the shore, lay the greatest treasure of all—a sense of belonging, a deep connection to the forest, and the knowledge that adventure awaited just beyond the next horizon. As Leo stood on the edge of the lake, gazing out at the world that lay beyond the forest, he knew that no matter where his adventures took him, the forest would always be his home—a place of magic, mystery, and endless possibility.\"]"
   ],
   "id": "5a4e9fecb70174d5",
   "outputs": [],
   "execution_count": 70
  },
  {
   "metadata": {},
   "cell_type": "markdown",
   "source": "## V 2 beta version",
   "id": "c702286a8cdc3206"
  },
  {
   "metadata": {},
   "cell_type": "markdown",
   "source": "### Text to image",
   "id": "3cdba44330543b7"
  },
  {
   "metadata": {
    "ExecuteTime": {
     "end_time": "2024-04-25T18:35:47.252224Z",
     "start_time": "2024-04-25T18:35:47.249582Z"
    }
   },
   "cell_type": "code",
   "source": [
    "def generate_image_from_text(text_prompts, output_path_images):\n",
    "    \n",
    "    url = f\"https://api.stability.ai/v2beta/stable-image/generate/core\"\n",
    "    \n",
    "    headers={\n",
    "        \"authorization\": f\"Bearer {api_key}\",\n",
    "        \"accept\": \"image/*\" #  \"application/json\"\n",
    "    }\n",
    "    \n",
    "    body = {\n",
    "        \"prompt\": text_prompts,\n",
    "        \"style_preset\": \"cinematic\",\n",
    "        \"output_format\": \"png\",\n",
    "    }\n",
    "    \n",
    "    response = requests.post(url, headers=headers, files={\"none\": ''}, data=body,)\n",
    "\n",
    "    #image_path = os.path.join(output_directory, f'{book_name}.png')\n",
    "    \n",
    "    file_name_path = f\"{output_path_images}Trial_Image.png\"\n",
    "\n",
    "    if response.status_code == 200:\n",
    "        with open(file_name_path, 'wb') as file:\n",
    "            file.write(response.content)\n",
    "    else:\n",
    "        raise Exception(str(response.json()))\n",
    "    \n",
    "    return file_name_path"
   ],
   "id": "549b896dcf2668ae",
   "outputs": [],
   "execution_count": 46
  },
  {
   "metadata": {
    "ExecuteTime": {
     "end_time": "2024-04-25T18:35:50.386151Z",
     "start_time": "2024-04-25T18:35:50.383475Z"
    }
   },
   "cell_type": "code",
   "source": [
    "def resize_image(input_path, width = 768 , height = 768):\n",
    "\n",
    "    # Load the image\n",
    "    img = Image.open(input_path)\n",
    "\n",
    "    # Resize the image\n",
    "    img_resized = img.resize((width, height))\n",
    "\n",
    "    # Save the resized image\n",
    "    img_resized.save(input_path)\n"
   ],
   "id": "b8e2b839da196f54",
   "outputs": [],
   "execution_count": 47
  },
  {
   "metadata": {},
   "cell_type": "markdown",
   "source": "### Video Generation  ",
   "id": "fe77b391b66e93d4"
  },
  {
   "metadata": {
    "ExecuteTime": {
     "end_time": "2024-04-25T18:35:52.677613Z",
     "start_time": "2024-04-25T18:35:52.674328Z"
    }
   },
   "cell_type": "code",
   "source": [
    "def get_generation_id(api_key, image_path, cfg_scale, motion_bucket_id):\n",
    "    \"\"\"\n",
    "    cfg_scale [1, 10]: How strongly the video sticks to the original image.\n",
    "    Use lower values to allow the model more freedom to make changes and higher values to correct motion distortions.\n",
    "\n",
    "    motion_bucket_id [1, 255]: Lower values generally result in less motion in the output video, while higher values generally result in more motion.\n",
    "    \"\"\"\n",
    "\n",
    "    url = f\"https://api.stability.ai/v2beta/image-to-video\"\n",
    "    \n",
    "    headers = {\"authorization\": f\"Bearer {api_key}\"}\n",
    "    \n",
    "    file = {\"image\": open(image_path, \"rb\")}\n",
    "    \n",
    "    data = {\n",
    "        \"seed\": 0,\n",
    "        \"cfg_scale\": cfg_scale,\n",
    "        \"motion_bucket_id\": motion_bucket_id\n",
    "    }\n",
    "    \n",
    "    response = requests.post(url, headers=headers, files=file, data=data,)\n",
    "    \n",
    "    #print(\"Generation ID:\", response.json().get('id'))\n",
    "    \n",
    "    return response.json().get('id')"
   ],
   "id": "cbc1b3bbb9bf3aa0",
   "outputs": [],
   "execution_count": 48
  },
  {
   "metadata": {},
   "cell_type": "markdown",
   "source": "### Download Video",
   "id": "caedd7bd7020d04e"
  },
  {
   "metadata": {
    "ExecuteTime": {
     "end_time": "2024-04-25T19:44:27.489751Z",
     "start_time": "2024-04-25T19:44:27.486641Z"
    }
   },
   "cell_type": "code",
   "source": [
    "def download_generated_video(api_key, generation_id, output_path_video, retries=6, wait_time=10):\n",
    "    \n",
    "    url = f\"https://api.stability.ai/v2beta/image-to-video/result/{generation_id}\"\n",
    "    \n",
    "    headers = {\n",
    "        'accept': \"video/*\",  # Use 'application/json' to receive base64 encoded JSON\n",
    "        'authorization': f\"Bearer {api_key}\"\n",
    "    }\n",
    "\n",
    "    file_name_path = f\"{output_path_video}Trial_Video.mp4\"\n",
    "    \n",
    "    for attempt in range(retries):\n",
    "        response = requests.request(\"GET\", url, headers=headers) # , timeout=(5, 14)\n",
    "\n",
    "        if response.status_code == 200:\n",
    "            print(\"Generation complete!\")\n",
    "            with open(file_name_path, 'wb') as file:\n",
    "                file.write(response.content)\n",
    "            return  # Success, exit the loop\n",
    "\n",
    "        elif response.status_code == 202:\n",
    "            print(f\"Generation in-progress, retrying attempt {attempt+1} of {retries} in {wait_time} seconds.\")\n",
    "            time.sleep(wait_time)\n",
    "        else:\n",
    "            raise Exception(str(response.json()))\n",
    "\n",
    "    raise Exception(\"Failed to download video after all retries.\")"
   ],
   "id": "ec9a0a78c769869f",
   "outputs": [],
   "execution_count": 73
  },
  {
   "metadata": {},
   "cell_type": "markdown",
   "source": "### Final Function",
   "id": "96886e7dfd8bcd8f"
  },
  {
   "metadata": {
    "ExecuteTime": {
     "end_time": "2024-04-25T19:29:10.258649Z",
     "start_time": "2024-04-25T19:29:10.255026Z"
    }
   },
   "cell_type": "code",
   "source": [
    "def generate_and_download_video(api_key, text_prompts, book_name, cfg_scale, motion_bucket_id):\n",
    "\n",
    "    \"\"\"\n",
    "    Generate image and animate it via Stability AI API. \n",
    "    Creates folder \"book_name\" with \"book_name/Images\" and \"book_name/Videos\".\n",
    "    Stores created images and animation to corresponding folders.\n",
    "    \n",
    "    :param api_key: Stability AI API key\n",
    "    \n",
    "    :param text_prompts: Text to generate image from (e.g text_prompts = [ prompt_1, prompt_2, ...])\n",
    "    \n",
    "    :param book_name: Book name (e.g. book_name = \"Harry\")\n",
    "    \n",
    "    :param cfg_scale: [1, 10] How strongly the video sticks to the original image. \n",
    "    Use lower values to allow the model more freedom to make changes and higher values to correct motion distortions.\n",
    "    \n",
    "    :param motion_bucket_id: [1, 255] Lower values generally result in less motion in the output video, while higher values generally result in more motion. \n",
    "    \"\"\"\n",
    "\n",
    "    output_path_images = f\"{book_name}/Images/\"\n",
    "    os.makedirs(output_path_images, exist_ok=True)\n",
    "\n",
    "    output_path_video = f\"{book_name}/Video/\"\n",
    "    os.makedirs(output_path_video, exist_ok=True)\n",
    "    \n",
    "    image_name = generate_image_from_text(text_prompts, output_path_images)\n",
    "    \n",
    "    resize_image(image_name, width = 768 , height = 768)\n",
    "    \n",
    "    video_id = get_generation_id(api_key, image_name, cfg_scale, motion_bucket_id)\n",
    "    \n",
    "    download_generated_video(api_key, video_id, output_path_video)"
   ],
   "id": "75e4d999be551cfc",
   "outputs": [],
   "execution_count": 68
  },
  {
   "metadata": {
    "ExecuteTime": {
     "end_time": "2024-04-25T19:46:33.287418Z",
     "start_time": "2024-04-25T19:45:31.671617Z"
    }
   },
   "cell_type": "code",
   "source": "generate_and_download_video(api_key, text_prompts[2], \"Final_test_Henry\", cfg_scale = 1.8, motion_bucket_id = 127)",
   "id": "716960f7710712ae",
   "outputs": [
    {
     "name": "stdout",
     "output_type": "stream",
     "text": [
      "Generation in-progress, retrying attempt 1 of 6 in 10 seconds.\n",
      "Generation in-progress, retrying attempt 2 of 6 in 10 seconds.\n",
      "Generation in-progress, retrying attempt 3 of 6 in 10 seconds.\n",
      "Generation in-progress, retrying attempt 4 of 6 in 10 seconds.\n",
      "Generation complete!\n"
     ]
    }
   ],
   "execution_count": 74
  }
 ],
 "metadata": {
  "kernelspec": {
   "display_name": "Python 3",
   "language": "python",
   "name": "python3"
  },
  "language_info": {
   "codemirror_mode": {
    "name": "ipython",
    "version": 3
   },
   "file_extension": ".py",
   "mimetype": "text/x-python",
   "name": "python",
   "nbconvert_exporter": "python",
   "pygments_lexer": "ipython3",
   "version": "3.9.12"
  }
 },
 "nbformat": 4,
 "nbformat_minor": 5
}
